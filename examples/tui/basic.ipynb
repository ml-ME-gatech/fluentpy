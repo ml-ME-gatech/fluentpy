{
 "cells": [
  {
   "cell_type": "markdown",
   "metadata": {},
   "source": [
    "# Basic Examples Show-casing the uses of various TUI classes "
   ]
  },
  {
   "cell_type": "markdown",
   "metadata": {},
   "source": [
    "### Initializer"
   ]
  },
  {
   "cell_type": "code",
   "execution_count": 1,
   "metadata": {},
   "outputs": [
    {
     "name": "stdout",
     "output_type": "stream",
     "text": [
      "solve/initialize/hyb-initialization\n"
     ]
    }
   ],
   "source": [
    "from fluentpy.tui import Initializer \n",
    "sinit = Initializer()\n",
    "print(sinit)"
   ]
  },
  {
   "cell_type": "markdown",
   "metadata": {},
   "source": [
    "### ScalarRelaxation"
   ]
  },
  {
   "cell_type": "code",
   "execution_count": 2,
   "metadata": {},
   "outputs": [
    {
     "name": "stdout",
     "output_type": "stream",
     "text": [
      "solve/set/under-relaxation\n",
      "temperature\n",
      "0.5\n",
      "q\n",
      "q\n",
      "q\n",
      "\n",
      "solve/set/under-relaxation\n",
      "temperature\n",
      "0.6\n",
      "epsilon\n",
      "0.3\n",
      "q\n",
      "q\n",
      "q\n",
      "\n"
     ]
    }
   ],
   "source": [
    "from fluentpy.tui import ScalarRelaxation\n",
    "\n",
    "sr = ScalarRelaxation('temperature',0.5)    #relax temperature to 0.5\n",
    "print(sr)\n",
    "\n",
    "sr = ScalarRelaxation(['temperature','epsilon'],[0.6,0.3])  #relax temperature and epsilon\n",
    "print(sr)"
   ]
  },
  {
   "cell_type": "markdown",
   "metadata": {},
   "source": [
    "### Equation Relaxation"
   ]
  },
  {
   "cell_type": "code",
   "execution_count": 3,
   "metadata": {},
   "outputs": [
    {
     "name": "stdout",
     "output_type": "stream",
     "text": [
      "solve/set/p-v-controls\n",
      "500\n",
      "0.6\n",
      "0.75\n",
      "q\n",
      "q\n",
      "q\n",
      "\n"
     ]
    }
   ],
   "source": [
    "from fluentpy.tui import EquationRelaxation\n",
    "\n",
    "er = EquationRelaxation(['courant number','momentum'],[500,0.6])\n",
    "print(er)\n"
   ]
  },
  {
   "cell_type": "markdown",
   "metadata": {},
   "source": [
    "### NISTRealGas"
   ]
  },
  {
   "cell_type": "code",
   "execution_count": 4,
   "metadata": {},
   "outputs": [
    {
     "name": "stdout",
     "output_type": "stream",
     "text": [
      "/define/user-defined/real-gas-models/nist-real-gas-model\n",
      "yes\n",
      "co2.fld\n",
      "no\n",
      "\n"
     ]
    }
   ],
   "source": [
    "from fluentpy.tui import NISTRealGas\n",
    "\n",
    "nrg = NISTRealGas('co2')\n",
    "print(nrg)"
   ]
  },
  {
   "cell_type": "markdown",
   "metadata": {},
   "source": [
    "### Discritization"
   ]
  },
  {
   "cell_type": "code",
   "execution_count": 5,
   "metadata": {},
   "outputs": [
    {
     "name": "stdout",
     "output_type": "stream",
     "text": [
      "/solve/set/discretization-scheme\n",
      "density\n",
      "1\n",
      "pressure\n",
      "11\n",
      "q\n",
      "q\n",
      "q\n",
      "\n"
     ]
    }
   ],
   "source": [
    "from fluentpy.tui import Discritization\n",
    "\n",
    "disc = Discritization(schemes = ['density','pressure'],\n",
    "        orders = ['Second Order Upwind','First Order Upwind']) \n",
    "print(disc)"
   ]
  },
  {
   "cell_type": "markdown",
   "metadata": {},
   "source": [
    "### CaseReader"
   ]
  },
  {
   "cell_type": "code",
   "execution_count": 6,
   "metadata": {},
   "outputs": [
    {
     "name": "stdout",
     "output_type": "stream",
     "text": [
      "file/read-case sample.cas\n"
     ]
    }
   ],
   "source": [
    "from fluentpy.tui import CaseReader\n",
    "\n",
    "cr = CaseReader('sample.cas')\n",
    "print(cr)\n"
   ]
  },
  {
   "cell_type": "markdown",
   "metadata": {},
   "source": [
    "### CaseMeshReplaceReader"
   ]
  },
  {
   "cell_type": "code",
   "execution_count": 7,
   "metadata": {},
   "outputs": [
    {
     "name": "stdout",
     "output_type": "stream",
     "text": [
      "file/read-case sample.cas\n",
      "mesh/replace new.msh\n"
     ]
    }
   ],
   "source": [
    "from fluentpy.tui import CaseMeshReplaceReader\n",
    "\n",
    "cmr = CaseMeshReplaceReader('sample.cas','new.msh')\n",
    "print(cmr)"
   ]
  },
  {
   "cell_type": "markdown",
   "metadata": {},
   "source": [
    "### CaseDataReader"
   ]
  },
  {
   "cell_type": "code",
   "execution_count": 8,
   "metadata": {},
   "outputs": [
    {
     "name": "stdout",
     "output_type": "stream",
     "text": [
      "file/read-case-data sample.cas\n"
     ]
    }
   ],
   "source": [
    "from fluentpy.tui import CaseDataReader\n",
    "\n",
    "cdr = CaseDataReader('sample.cas')\n",
    "print(cdr)\n"
   ]
  },
  {
   "cell_type": "markdown",
   "metadata": {},
   "source": [
    "### SurfaceIntegrals"
   ]
  },
  {
   "cell_type": "code",
   "execution_count": 9,
   "metadata": {},
   "outputs": [
    {
     "name": "stdout",
     "output_type": "stream",
     "text": [
      "/report/surface-integrals/vertex-max\n",
      "12\n",
      " , \n",
      "temperature\n",
      "yes\n",
      "sample-vertex-max-12-temperature\n",
      "/report/surface-integrals/area-weighted-avg\n",
      "10\n",
      "11\n",
      " , \n",
      "temperature\n",
      "yes\n",
      "sample-area-weighted-avg-10-11-temperature\n",
      "\n"
     ]
    }
   ],
   "source": [
    "from fluentpy.tui import SurfaceIntegrals\n",
    "\n",
    "si = SurfaceIntegrals('sample.cas',[[10,11],[12]],['temperature','temperature'],['area-weighted-avg','vertex-max'],\n",
    "                        engine = None)\n",
    "sif = si()\n",
    "print(sif)"
   ]
  },
  {
   "cell_type": "markdown",
   "metadata": {},
   "source": [
    "### BatchCaseReader"
   ]
  },
  {
   "cell_type": "code",
   "execution_count": 10,
   "metadata": {},
   "outputs": [
    {
     "name": "stdout",
     "output_type": "stream",
     "text": [
      "sync-chdir ..\n",
      "file/read-case sample.cas\n",
      "sync-chdir main\n",
      "sync-chdir ..\n",
      "file/read-case sample.cas\n",
      "sync-chdir main\n"
     ]
    }
   ],
   "source": [
    "from fluentpy.tui import BatchCaseReader\n",
    "\n",
    "bcr = BatchCaseReader('sample.cas',current_folder = 'main')\n",
    "print(bcr)\n",
    "\n",
    "bcr = BatchCaseReader('sample.cas')\n",
    "bcr.pwd = 'main'\n",
    "print(bcr)\n"
   ]
  },
  {
   "cell_type": "markdown",
   "metadata": {},
   "source": [
    "### DataWriter"
   ]
  },
  {
   "cell_type": "code",
   "execution_count": 11,
   "metadata": {},
   "outputs": [
    {
     "name": "stdout",
     "output_type": "stream",
     "text": [
      "file/write-data mydata.dat\n"
     ]
    }
   ],
   "source": [
    "from fluentpy.tui import DataWriter\n",
    "\n",
    "dr = DataWriter('mydata.dat')\n",
    "print(dr)"
   ]
  },
  {
   "cell_type": "markdown",
   "metadata": {},
   "source": [
    "### CaseWriter"
   ]
  },
  {
   "cell_type": "code",
   "execution_count": 12,
   "metadata": {},
   "outputs": [
    {
     "name": "stdout",
     "output_type": "stream",
     "text": [
      "file/write-case sample.cas\n"
     ]
    }
   ],
   "source": [
    "from fluentpy.tui import CaseWriter\n",
    "\n",
    "cr = CaseWriter('sample.cas')\n",
    "print(cr)"
   ]
  },
  {
   "cell_type": "markdown",
   "metadata": {},
   "source": [
    "### Solver_Iterator"
   ]
  },
  {
   "cell_type": "code",
   "execution_count": 13,
   "metadata": {},
   "outputs": [
    {
     "name": "stdout",
     "output_type": "stream",
     "text": [
      "solve/iterate 500\n"
     ]
    }
   ],
   "source": [
    "from fluentpy.tui import Solver_Iterator\n",
    "\n",
    "si = Solver_Iterator(niter = 500)\n",
    "print(si)"
   ]
  },
  {
   "cell_type": "markdown",
   "metadata": {},
   "source": [
    "### Solver"
   ]
  },
  {
   "cell_type": "code",
   "execution_count": 14,
   "metadata": {},
   "outputs": [
    {
     "name": "stdout",
     "output_type": "stream",
     "text": [
      "<fluentpy.tui.Solver object at 0x00000110071B6490>\n",
      "<fluentpy.tui.Solver object at 0x00000110071B6F40>\n"
     ]
    }
   ],
   "source": [
    "from fluentpy.tui import Solver\n",
    "\n",
    "solver = Solver()\n",
    "print(solver)\n",
    "\n",
    "solver = Solver(initializer= Initializer(),\n",
    "                solver_iterator= Solver_Iterator(niter = 1000))\n",
    "print(solver)"
   ]
  },
  {
   "cell_type": "markdown",
   "metadata": {},
   "source": [
    "### ConvergenceConditions"
   ]
  },
  {
   "cell_type": "code",
   "execution_count": 15,
   "metadata": {},
   "outputs": [
    {
     "name": "stdout",
     "output_type": "stream",
     "text": [
      "/solve/convergence-conditions\n",
      "condition\n",
      "1\n",
      "conv-reports\n",
      "add\n",
      "report-def1-convergence\n",
      "initial-values-to-ignore\n",
      "0\n",
      "previous-values-to-consider\n",
      "1\n",
      "print\n",
      "yes\n",
      "stop-criterion\n",
      "0.001\n",
      "report-defs\n",
      "report-def1\n",
      "q\n",
      "q\n",
      "q\n",
      "\n"
     ]
    }
   ],
   "source": [
    "from fluentpy.tui import ConvergenceConditions\n",
    "\n",
    "cc = ConvergenceConditions(['report-def1'],condition = 'all')\n",
    "print(cc)"
   ]
  },
  {
   "cell_type": "markdown",
   "metadata": {},
   "source": [
    "### ViscousModelModification"
   ]
  },
  {
   "cell_type": "code",
   "execution_count": 16,
   "metadata": {},
   "outputs": [
    {
     "name": "stdout",
     "output_type": "stream",
     "text": [
      "define/models/viscous\n",
      "ke-realizable\n",
      "yes\n",
      "q\n",
      "\n",
      "\n"
     ]
    }
   ],
   "source": [
    "from fluentpy.tui import ViscousModelModification\n",
    "\n",
    "vmm = ViscousModelModification('ke-realizable')\n",
    "print(vmm)"
   ]
  },
  {
   "cell_type": "markdown",
   "metadata": {},
   "source": [
    "### SolidCellZone"
   ]
  },
  {
   "cell_type": "code",
   "execution_count": 17,
   "metadata": {},
   "outputs": [
    {
     "name": "stdout",
     "output_type": "stream",
     "text": [
      "no\n",
      "yes\n",
      "1\n",
      "yes\n",
      "1000000.0\n",
      "no\n",
      "no\n",
      "no\n",
      "0\n",
      "no\n",
      "0\n",
      "no\n",
      "0\n",
      "no\n",
      "0\n",
      "no\n",
      "0\n",
      "no\n",
      "1\n",
      "no\n",
      "no\n",
      "\n",
      "/define/boundary-conditions/solid\n",
      "my_solid\n",
      "yes\n",
      "aluminium\n",
      "yes\n",
      "1\n",
      "yes\n",
      "1000000.0\n",
      "no\n",
      "no\n",
      "no\n",
      "0\n",
      "no\n",
      "0\n",
      "no\n",
      "0\n",
      "no\n",
      "0\n",
      "no\n",
      "0\n",
      "no\n",
      "1\n",
      "no\n",
      "no\n",
      "\n"
     ]
    }
   ],
   "source": [
    "from fluentpy.tui import SolidCellZone\n",
    "\n",
    "scz = SolidCellZone('my_solid')\n",
    "scz.add_constant_source(1e6)\n",
    "\n",
    "print(scz())\n",
    "\n",
    "scz.change_material('aluminium')\n",
    "print(scz())"
   ]
  },
  {
   "cell_type": "markdown",
   "metadata": {},
   "source": [
    "### UDF"
   ]
  },
  {
   "cell_type": "code",
   "execution_count": 18,
   "metadata": {},
   "outputs": [
    {
     "name": "stdout",
     "output_type": "stream",
     "text": [
      "yes\n",
      "yes\n",
      "myudf\n",
      "\"mydata\"\n",
      "\n"
     ]
    }
   ],
   "source": [
    "from fluentpy.tui import UDF\n",
    "\n",
    "udf = UDF('test.c','myudf','mydata','heat_flux')\n",
    "print(udf)"
   ]
  },
  {
   "cell_type": "markdown",
   "metadata": {},
   "source": [
    "### WallBoundaryCondition"
   ]
  },
  {
   "cell_type": "code",
   "execution_count": 19,
   "metadata": {},
   "outputs": [
    {
     "name": "stdout",
     "output_type": "stream",
     "text": [
      "/define/boundary-conditions/wall\n",
      "test\n",
      "0\n",
      "no\n",
      "0\n",
      "no\n",
      "no\n",
      "no\n",
      "10000.0\n",
      "no\n",
      "400.0\n",
      "no\n",
      "no\n",
      "1\n",
      "\n",
      "/define/boundary-conditions/wall\n",
      "test\n",
      "0\n",
      "no\n",
      "0\n",
      "no\n",
      "no\n",
      "yes\n",
      "yes\n",
      "udf\n",
      "\"HTC::UDF\"\n",
      "no\n",
      "400.0\n",
      "no\n",
      "no\n",
      "1\n",
      "\n"
     ]
    }
   ],
   "source": [
    "from fluentpy.tui import WallBoundaryCondition\n",
    "\n",
    "wall = WallBoundaryCondition('test',['energy','viscous'],'pressure-based')\n",
    "wall.free_stream_temperature = 400.0\n",
    "wall.convection_coefficient = 10e3\n",
    "print(wall())\n",
    "\n",
    "udf = UDF('test.c','udf','HTC::UDF','convection_coefficient')\n",
    "wall.add_udf(udf)\n",
    "print(wall())"
   ]
  },
  {
   "cell_type": "markdown",
   "metadata": {},
   "source": [
    "### MassFlowInlet"
   ]
  },
  {
   "cell_type": "code",
   "execution_count": 20,
   "metadata": {},
   "outputs": [
    {
     "name": "stdout",
     "output_type": "stream",
     "text": [
      "/define/boundary-conditions/mass-flow-inlet\n",
      "test_mfi\n",
      "yes\n",
      "no\n",
      "yes\n",
      "no\n",
      "mass flux: 1.0\n",
      "no\n",
      "pressure: 0\n",
      "no\n",
      "yes\n",
      "yes\n",
      "no\n",
      "1\n",
      "no\n",
      "1\n",
      "\n"
     ]
    }
   ],
   "source": [
    "from fluentpy.tui import MassFlowInlet\n",
    "\n",
    "mfi = MassFlowInlet('test_mfi',['viscous'],'pressure-based','ke-standard')\n",
    "mfi.mass_flux = 1.0\n",
    "print(mfi())\n"
   ]
  },
  {
   "cell_type": "markdown",
   "metadata": {},
   "source": [
    "### PressureOutlet"
   ]
  },
  {
   "cell_type": "code",
   "execution_count": 21,
   "metadata": {},
   "outputs": [
    {
     "name": "stdout",
     "output_type": "stream",
     "text": [
      "/define/boundary-conditions/pressure-outlet\n",
      "test_pressure_outlet\n",
      "yes\n",
      "no\n",
      "1000000.0\n",
      "no\n",
      "300\n",
      "no\n",
      "yes\n",
      "yes\n",
      "no\n",
      "1\n",
      "no\n",
      "1\n",
      "yes\n",
      "no\n",
      "no\n",
      "no\n",
      "\n"
     ]
    }
   ],
   "source": [
    "from fluentpy.tui import PressureOutlet\n",
    "\n",
    "po = PressureOutlet('test_pressure_outlet',['viscous','energy'],'pressure-based','kw-standard')\n",
    "po.pressure = 10e5\n",
    "print(po())"
   ]
  }
 ],
 "metadata": {
  "interpreter": {
   "hash": "2f5539b267febabea1dfd6d4069332fee3a19322687f922df73016c1ac42342c"
  },
  "kernelspec": {
   "display_name": "Python 3.8.8 64-bit ('base': conda)",
   "language": "python",
   "name": "python3"
  },
  "language_info": {
   "codemirror_mode": {
    "name": "ipython",
    "version": 3
   },
   "file_extension": ".py",
   "mimetype": "text/x-python",
   "name": "python",
   "nbconvert_exporter": "python",
   "pygments_lexer": "ipython3",
   "version": "3.8.8"
  },
  "orig_nbformat": 4
 },
 "nbformat": 4,
 "nbformat_minor": 2
}
